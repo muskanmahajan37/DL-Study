{
 "cells": [
  {
   "cell_type": "code",
   "execution_count": 1,
   "metadata": {
    "collapsed": false
   },
   "outputs": [],
   "source": [
    "import numpy as np\n",
    "import matplotlib.pyplot as plt\n",
    "import tensorflow as tf\n",
    "from sklearn.utils import shuffle\n",
    "%matplotlib inline\n",
    "\n",
    "import os\n",
    "os.environ[\"CUDA_DEVICE_ORDER\"]=\"PCI_BUS_ID\"\n",
    "os.environ['CUDA_VISIBLE_DEVICES'] = '1'"
   ]
  },
  {
   "cell_type": "markdown",
   "metadata": {},
   "source": [
    "### Data loading"
   ]
  },
  {
   "cell_type": "code",
   "execution_count": 2,
   "metadata": {
    "collapsed": false
   },
   "outputs": [
    {
     "name": "stdout",
     "output_type": "stream",
     "text": [
      "Extracting MNIST_data/train-images-idx3-ubyte.gz\n",
      "Extracting MNIST_data/train-labels-idx1-ubyte.gz\n",
      "Extracting MNIST_data/t10k-images-idx3-ubyte.gz\n",
      "Extracting MNIST_data/t10k-labels-idx1-ubyte.gz\n"
     ]
    }
   ],
   "source": [
    "from tensorflow.examples.tutorials.mnist import input_data\n",
    "mnist = input_data.read_data_sets(\"MNIST_data/\", one_hot=True)\n",
    "input_dim = 784\n",
    "output_dim = 10"
   ]
  },
  {
   "cell_type": "markdown",
   "metadata": {},
   "source": [
    "### Data visualization"
   ]
  },
  {
   "cell_type": "code",
   "execution_count": 3,
   "metadata": {
    "collapsed": false
   },
   "outputs": [
    {
     "data": {
      "image/png": "[encoded data removed]",
      "text/plain": [
       "<matplotlib.figure.Figure at 0x7f5dd4dade90>"
      ]
     },
     "metadata": {},
     "output_type": "display_data"
    }
   ],
   "source": [
    "no_plot_img = 5\n",
    "plt.rcParams['figure.figsize'] = (10, 2)\n",
    "fig, ax_list = plt.subplots(1, no_plot_img)\n",
    "for i in range(no_plot_img):\n",
    "    pixels = mnist.test.images[i]\n",
    "    pixels = pixels.reshape((28, 28))\n",
    "    label = np.argmax(mnist.test.labels[i])\n",
    "    ax_list[i].set_title('Image #%d'%(i+1))\n",
    "    ax_list[i].axis('off')\n",
    "    ax_list[i].imshow(pixels, cmap='gray')\n",
    "plt.show()"
   ]
  },
  {
   "cell_type": "markdown",
   "metadata": {},
   "source": [
    "### NN functions"
   ]
  },
  {
   "cell_type": "code",
   "execution_count": 4,
   "metadata": {
    "collapsed": true
   },
   "outputs": [],
   "source": [
    "def FullyConnectedLayer(inputs, units, activation):\n",
    "    return tf.layers.dense(inputs, units, activation=activation, kernel_initializer=tf.contrib.layers.xavier_initializer())"
   ]
  },
  {
   "cell_type": "code",
   "execution_count": 5,
   "metadata": {
    "collapsed": true
   },
   "outputs": [],
   "source": [
    "def DropoutLayer(inputs, dropout_rate):\n",
    "    return tf.nn.dropout(inputs, 1 - dropout_rate)"
   ]
  },
  {
   "cell_type": "code",
   "execution_count": 6,
   "metadata": {
    "collapsed": true
   },
   "outputs": [],
   "source": [
    "def ConvolutionalLayer2D(inputs, shape, activation):\n",
    "    width, height, depth, cnt = shape\n",
    "    W = tf.Variable(tf.truncated_normal([width, height, depth, cnt], stddev=00.1))\n",
    "    b = tf.Variable(tf.constant(0.01, shape=[cnt]))\n",
    "    h = tf.nn.conv2d(inputs, W, strides=[1, 1, 1, 1], padding='SAME') + b\n",
    "    return h if activation is None else activation(h)"
   ]
  },
  {
   "cell_type": "code",
   "execution_count": 7,
   "metadata": {
    "collapsed": true
   },
   "outputs": [],
   "source": [
    "def MaxPoolingLayer2D(inputs):\n",
    "    return tf.nn.max_pool(inputs, ksize=[1, 2, 2, 1], strides=[1, 2, 2, 1], padding='SAME')"
   ]
  },
  {
   "cell_type": "code",
   "execution_count": 8,
   "metadata": {
    "collapsed": true
   },
   "outputs": [],
   "source": [
    "def Flattern2D(inputs):\n",
    "    return tf.reshape(inputs, [-1, (inputs.shape[1]*inputs.shape[2]*inputs.shape[3]).value])"
   ]
  },
  {
   "cell_type": "markdown",
   "metadata": {},
   "source": [
    "### NN design"
   ]
  },
  {
   "cell_type": "code",
   "execution_count": 9,
   "metadata": {
    "collapsed": false
   },
   "outputs": [],
   "source": [
    "x      = tf.placeholder(tf.float32, [None, input_dim ])\n",
    "x_2d   = tf.reshape(x, [-1, 28, 28, 1])\n",
    "y_true = tf.placeholder(tf.float32, [None, output_dim])\n",
    "dr     = tf.placeholder(tf.float32)"
   ]
  },
  {
   "cell_type": "code",
   "execution_count": 10,
   "metadata": {
    "collapsed": true
   },
   "outputs": [],
   "source": [
    "# 1st hidden layer\n",
    "h1 = ConvolutionalLayer2D(x_2d, (5, 5,  1, 32), tf.nn.relu)\n",
    "h1 = MaxPoolingLayer2D(h1)\n",
    "h1 = DropoutLayer(h1, dr)"
   ]
  },
  {
   "cell_type": "code",
   "execution_count": 11,
   "metadata": {
    "collapsed": false
   },
   "outputs": [],
   "source": [
    "# 2nd hidden layer\n",
    "h2 = ConvolutionalLayer2D(h1, (5, 5, 32,  64), tf.nn.relu)\n",
    "h2 = MaxPoolingLayer2D(h2)\n",
    "h2 = DropoutLayer(h2, dr)\n",
    "h2 = Flattern2D(h2)"
   ]
  },
  {
   "cell_type": "code",
   "execution_count": 12,
   "metadata": {
    "collapsed": true
   },
   "outputs": [],
   "source": [
    "# 3rd hidden layer\n",
    "h3 = FullyConnectedLayer(h2, 1024, tf.nn.relu)\n",
    "h3 = DropoutLayer(h3, dr)"
   ]
  },
  {
   "cell_type": "code",
   "execution_count": 13,
   "metadata": {
    "collapsed": true
   },
   "outputs": [],
   "source": [
    "# output layer\n",
    "y_pred = FullyConnectedLayer(h3, 10, None)"
   ]
  },
  {
   "cell_type": "code",
   "execution_count": 14,
   "metadata": {
    "collapsed": true
   },
   "outputs": [],
   "source": [
    "loss = tf.reduce_mean(tf.nn.softmax_cross_entropy_with_logits(logits=y_pred, labels=y_true))\n",
    "prediction = tf.argmax(tf.nn.softmax(y_pred), axis=1)\n",
    "correct_prediction = tf.equal(prediction, tf.argmax(y_true, 1))\n",
    "accuracy = tf.reduce_mean(tf.cast(correct_prediction, tf.float32))"
   ]
  },
  {
   "cell_type": "markdown",
   "metadata": {},
   "source": [
    "### Trainining"
   ]
  },
  {
   "cell_type": "code",
   "execution_count": 15,
   "metadata": {
    "collapsed": false
   },
   "outputs": [],
   "source": [
    "BATCH_SIZE = 2 ** 8\n",
    "LEARNING_RATE = 0.001\n",
    "DROPOUT_RATE = 0.25\n",
    "NUM_ITERS = 1000\n",
    "PRINT_STEP = 100"
   ]
  },
  {
   "cell_type": "code",
   "execution_count": 16,
   "metadata": {
    "collapsed": false,
    "scrolled": true
   },
   "outputs": [
    {
     "name": "stdout",
     "output_type": "stream",
     "text": [
      "iter    1 train_loss 2.578 train_acc 0.133 test_acc 0.096\n",
      "iter  100 train_loss 0.282 train_acc 0.934 test_acc 0.960\n",
      "iter  200 train_loss 0.087 train_acc 0.965 test_acc 0.977\n",
      "iter  300 train_loss 0.071 train_acc 0.980 test_acc 0.984\n",
      "iter  400 train_loss 0.071 train_acc 0.984 test_acc 0.986\n",
      "iter  500 train_loss 0.054 train_acc 0.980 test_acc 0.988\n",
      "iter  600 train_loss 0.041 train_acc 0.984 test_acc 0.989\n",
      "iter  700 train_loss 0.032 train_acc 0.988 test_acc 0.989\n",
      "iter  800 train_loss 0.091 train_acc 0.977 test_acc 0.991\n",
      "iter  900 train_loss 0.047 train_acc 0.992 test_acc 0.989\n",
      "iter 1000 train_loss 0.057 train_acc 0.977 test_acc 0.992\n"
     ]
    }
   ],
   "source": [
    "train_op = tf.train.AdamOptimizer(tf.Variable(LEARNING_RATE)).minimize(loss)\n",
    "\n",
    "with tf.Session() as sess:\n",
    "    sess.run(tf.global_variables_initializer())\n",
    "    \n",
    "    for iter in xrange(NUM_ITERS):\n",
    "        batch_x, batch_y = mnist.train.next_batch(BATCH_SIZE)\n",
    "        _, train_loss, train_acc = sess.run([train_op, loss, accuracy], feed_dict={x:batch_x, y_true:batch_y, dr: DROPOUT_RATE})\n",
    "        test_acc = sess.run(accuracy, feed_dict={x:mnist.test.images, y_true:mnist.test.labels, dr: 0})\n",
    "        if ((iter+1) % PRINT_STEP == 0) or iter == 0:\n",
    "            print 'iter %4d train_loss %.3f train_acc %.3f test_acc %.3f'%(iter+1, train_loss, train_acc, test_acc)"
   ]
  }
 ],
 "metadata": {
  "kernelspec": {
   "display_name": "Python 2",
   "language": "python",
   "name": "python2"
  },
  "language_info": {
   "codemirror_mode": {
    "name": "ipython",
    "version": 2
   },
   "file_extension": ".py",
   "mimetype": "text/x-python",
   "name": "python",
   "nbconvert_exporter": "python",
   "pygments_lexer": "ipython2",
   "version": "2.7.6"
  }
 },
 "nbformat": 4,
 "nbformat_minor": 0
}
