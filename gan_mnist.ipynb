{
 "cells": [
  {
   "cell_type": "markdown",
   "metadata": {},
   "source": [
    "## GAN for MNIST"
   ]
  },
  {
   "cell_type": "markdown",
   "metadata": {},
   "source": [
    "Reference\n",
    "- https://github.com/goodfeli/adversarial\n",
    "- https://github.com/ckmarkoh/GAN-tensorflow/blob/master/gan.py\n",
    "- http://www.kdnuggets.com/2016/07/mnist-generative-adversarial-model-keras.html"
   ]
  },
  {
   "cell_type": "code",
   "execution_count": 1,
   "metadata": {
    "collapsed": true
   },
   "outputs": [],
   "source": [
    "import random\n",
    "import numpy as np\n",
    "import matplotlib.pyplot as plt\n",
    "import tensorflow as tf\n",
    "%matplotlib inline\n",
    "\n",
    "import os\n",
    "os.environ[\"CUDA_DEVICE_ORDER\"]=\"PCI_BUS_ID\"\n",
    "os.environ['CUDA_VISIBLE_DEVICES'] = '0'"
   ]
  },
  {
   "cell_type": "markdown",
   "metadata": {},
   "source": [
    "### Data loading"
   ]
  },
  {
   "cell_type": "code",
   "execution_count": 2,
   "metadata": {
    "collapsed": false
   },
   "outputs": [
    {
     "name": "stdout",
     "output_type": "stream",
     "text": [
      "Extracting MNIST_data/train-images-idx3-ubyte.gz\n",
      "Extracting MNIST_data/train-labels-idx1-ubyte.gz\n",
      "Extracting MNIST_data/t10k-images-idx3-ubyte.gz\n",
      "Extracting MNIST_data/t10k-labels-idx1-ubyte.gz\n"
     ]
    }
   ],
   "source": [
    "from tensorflow.examples.tutorials.mnist import input_data\n",
    "mnist = input_data.read_data_sets(\"MNIST_data/\", one_hot=True)\n",
    "dim_image = 784"
   ]
  },
  {
   "cell_type": "markdown",
   "metadata": {},
   "source": [
    "### Data visualiation"
   ]
  },
  {
   "cell_type": "code",
   "execution_count": 3,
   "metadata": {
    "collapsed": false
   },
   "outputs": [
    {
     "data": {
      "image/png": "[encoded data removed]",
      "text/plain": [
       "<matplotlib.figure.Figure at 0x7fd72c1b8e50>"
      ]
     },
     "metadata": {},
     "output_type": "display_data"
    }
   ],
   "source": [
    "plt.rcParams['figure.figsize'] = (10, 2)\n",
    "fig, ax_list = plt.subplots(1, 5)\n",
    "for i in range(5):\n",
    "    image = mnist.test.images[i].reshape((28, 28))\n",
    "    label = np.argmax(mnist.test.labels[i])\n",
    "    ax_list[i].axis('off')\n",
    "    ax_list[i].imshow(image, cmap='gray')\n",
    "plt.show()"
   ]
  },
  {
   "cell_type": "markdown",
   "metadata": {},
   "source": [
    "### GAN"
   ]
  },
  {
   "cell_type": "code",
   "execution_count": 4,
   "metadata": {
    "collapsed": true
   },
   "outputs": [],
   "source": [
    "class GAN:\n",
    "    def __init__(self, dim_z, dim_g_h1, dim_g_h2, dim_x, dim_d_h1, dim_d_h2):\n",
    "        self.dim_z    = dim_z\n",
    "        self.dim_g_h1 = dim_g_h1\n",
    "        self.dim_g_h2 = dim_g_h2\n",
    "        self.dim_x    = dim_x\n",
    "        self.dim_d_h1 = dim_d_h1\n",
    "        self.dim_d_h2 = dim_d_h2\n",
    "        \n",
    "        # Placeholders\n",
    "        self.x = tf.placeholder(tf.float32, [None, self.dim_x])\n",
    "        self.z = tf.placeholder(tf.float32, [None, self.dim_z])\n",
    "        self.lr = tf.placeholder(tf.float32) # Learning rate\n",
    "        self.dr = tf.placeholder(tf.float32) # Dropout rate\n",
    "        \n",
    "        # Generator\n",
    "        G_init = tf.truncated_normal_initializer(stddev=0.1)\n",
    "        with tf.variable_scope('G'):\n",
    "            G_h1    = tf.layers.dense(self.z, self.dim_g_h1,\n",
    "                                      activation=tf.tanh, kernel_initializer=G_init)\n",
    "            \n",
    "            G_h2    = tf.layers.dense(G_h1,   self.dim_g_h2,\n",
    "                                      activation=tf.tanh, kernel_initializer=G_init)\n",
    "            \n",
    "            self.G  = tf.layers.dense(G_h2,   self.dim_x,\n",
    "                                      activation=tf.tanh,    kernel_initializer=G_init)\n",
    "        \n",
    "        # Discriminator\n",
    "        D_init = tf.truncated_normal_initializer(stddev=0.1)\n",
    "        with tf.variable_scope('D') as scope:\n",
    "            def discriminator(inputs):\n",
    "                D_h1 = tf.layers.dense(inputs, self.dim_d_h1, activation=tf.tanh,\n",
    "                                       kernel_initializer=D_init, name='D_h1')\n",
    "                D_h1 = tf.nn.dropout(D_h1, 1 - self.dr, name='D_h1_dropout')\n",
    "                \n",
    "                D_h2 = tf.layers.dense(D_h1,   self.dim_d_h2, activation=tf.tanh,\n",
    "                                       kernel_initializer=D_init, name='D_h2')\n",
    "                D_h2 = tf.nn.dropout(D_h2, 1 - self.dr, name='D_h2_dropout')\n",
    "                \n",
    "                D    = tf.layers.dense(D_h2,   1, activation=tf.sigmoid,\n",
    "                                       kernel_initializer=D_init, name='D')\n",
    "                return D\n",
    "            \n",
    "            self.D_real = discriminator(self.x)\n",
    "            scope.reuse_variables()\n",
    "            self.D_fake = discriminator(self.G)\n",
    "        \n",
    "        # Losses\n",
    "        self.loss_G      = tf.reduce_mean(-tf.log(self.D_fake))\n",
    "        self.loss_D_real = tf.reduce_mean(-tf.log(self.D_real))\n",
    "        self.loss_D_fake = tf.reduce_mean(-tf.log(1 - self.D_fake))\n",
    "        self.loss_D      = tf.reduce_mean((self.loss_D_real, self.loss_D_fake))\n",
    "        \n",
    "        # Optmizers\n",
    "        def optimizer(loss, var_list):\n",
    "            return tf.train.AdamOptimizer(self.lr).minimize(loss, var_list=var_list)\n",
    "        g_params = [v for v in tf.trainable_variables() if v.name.startswith('G/')]\n",
    "        d_params = [v for v in tf.trainable_variables() if v.name.startswith('D/')]\n",
    "        self.train_G = optimizer(self.loss_G, g_params)\n",
    "        self.train_D = optimizer(self.loss_D, d_params)\n",
    "        \n",
    "    def generate_noise(self, cnt):\n",
    "        #return np.random.normal(0, 1, size=[cnt, self.dim_z])\n",
    "        return np.random.uniform(-1, 1, size=[cnt, self.dim_z])\n",
    "    \n",
    "    def train(self, sess, x, lr, dr=0, train_D_only=False):\n",
    "        noise = self.generate_noise(x.shape[0])\n",
    "        sess.run(self.train_D, feed_dict={self.x: x, self.z: noise, self.lr: lr, self.dr: dr})\n",
    "        if not train_D_only:\n",
    "            sess.run(self.train_G, feed_dict={self.z: noise, self.lr: lr, self.dr: dr})\n",
    "        \n",
    "    def loss(self, sess, x):\n",
    "        noise = self.generate_noise(x.shape[0])\n",
    "        loss_G = sess.run(self.loss_G, feed_dict={           self.z: noise, self.dr: 0})\n",
    "        loss_D = sess.run(self.loss_D, feed_dict={self.x: x, self.z: noise, self.dr: 0})\n",
    "        return loss_G, loss_D\n",
    "    \n",
    "    def generate_data_with_random_noise(self, sess, cnt):\n",
    "        noise = self.generate_noise(cnt)\n",
    "        return self.generate_data(sess, noise)\n",
    "    \n",
    "    def generate_data(self, sess, noise):\n",
    "        return sess.run(self.G, feed_dict={self.z: noise})"
   ]
  },
  {
   "cell_type": "code",
   "execution_count": 5,
   "metadata": {
    "collapsed": true
   },
   "outputs": [],
   "source": [
    "def plot_data(x_fake, path=None):\n",
    "    plt.ioff()\n",
    "    plt.rcParams['figure.figsize'] = (8, 8)\n",
    "    fig, ax_list = plt.subplots(NUM_IMG_TILE_CNT, NUM_IMG_TILE_CNT)\n",
    "    for row_i in range(NUM_IMG_TILE_CNT):\n",
    "        for col_i in range(NUM_IMG_TILE_CNT):\n",
    "            image = x_fake[row_i * NUM_IMG_TILE_CNT + col_i].reshape((28, 28))\n",
    "            ax_list[row_i][col_i].axis('off')\n",
    "            ax_list[row_i][col_i].imshow(image, cmap='gray')\n",
    "    plt.subplots_adjust(wspace=0.05, hspace=0.05)\n",
    "    path == None and plt.show() or plt.savefig(path, bbox_inches='tight', facecolor='black')\n",
    "    plt.close()"
   ]
  },
  {
   "cell_type": "code",
   "execution_count": 6,
   "metadata": {
    "collapsed": false,
    "scrolled": false
   },
   "outputs": [
    {
     "data": {
      "image/png": "[encoded data removed]",
      "text/plain": [
       "<matplotlib.figure.Figure at 0x7fd730233790>"
      ]
     },
     "metadata": {},
     "output_type": "display_data"
    }
   ],
   "source": [
    "def sigmoid_to_tanh(x):\n",
    "    return 2 * x - 1\n",
    "\n",
    "tf.reset_default_graph()\n",
    "\n",
    "DR = 0.3\n",
    "LR = 0.0001\n",
    "NUM_ITER = 10 ** 5 + 1\n",
    "BATCH_SIZE = 2 ** 6\n",
    "NUM_ITER_PT = int(NUM_ITER / 100)\n",
    "NUM_IMG_TILE_CNT = 6\n",
    "NUM_IMG_PLOT = NUM_IMG_TILE_CNT ** 2\n",
    "\n",
    "with tf.Session() as sess:\n",
    "    gan = GAN(dim_z=100, dim_g_h1=250, dim_g_h2=500, dim_x=dim_image, dim_d_h1=500, dim_d_h2=250)\n",
    "    sess.run(tf.global_variables_initializer())\n",
    "    sess.run(tf.local_variables_initializer())\n",
    "    \n",
    "    fixed_noise = gan.generate_noise(NUM_IMG_PLOT)\n",
    "    \n",
    "    # Train both D and G\n",
    "    num_img = 0\n",
    "    for iter in xrange(NUM_ITER):\n",
    "        x_batch, _ = mnist.train.next_batch(BATCH_SIZE)\n",
    "        x_batch = sigmoid_to_tanh(x_batch)\n",
    "        gan.train(sess, x_batch, LR, DR, train_D_only=True)\n",
    "        gan.train(sess, x_batch, LR, DR)\n",
    "\n",
    "        # Animation\n",
    "        if iter % (10 ** 3) == 0:\n",
    "            x_fake = gan.generate_data(sess, fixed_noise)\n",
    "            plot_data(x_fake, 'plot_gan_mnist/%d.png'%num_img)\n",
    "            num_img += 1\n",
    "            \n",
    "        # Last generation\n",
    "        if iter == (NUM_ITER-1):\n",
    "            plot_data(x_fake)"
   ]
  }
 ],
 "metadata": {
  "kernelspec": {
   "display_name": "Python 2",
   "language": "python",
   "name": "python2"
  },
  "language_info": {
   "codemirror_mode": {
    "name": "ipython",
    "version": 2
   },
   "file_extension": ".py",
   "mimetype": "text/x-python",
   "name": "python",
   "nbconvert_exporter": "python",
   "pygments_lexer": "ipython2",
   "version": "2.7.6"
  }
 },
 "nbformat": 4,
 "nbformat_minor": 0
}
