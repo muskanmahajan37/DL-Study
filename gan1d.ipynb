{
 "cells": [
  {
   "cell_type": "markdown",
   "metadata": {},
   "source": [
    "### GAN 1D\n",
    "\n",
    "References\n",
    "- http://blog.naver.com/atelierjpro/220984758512\n",
    "- https://github.com/hwalsuklee/tensorflow-GAN-1d-gaussian-ex\n",
    "- http://blog.aylien.com/introduction-generative-adversarial-networks-code-tensorflow/\n",
    "- http://matplotlib.org/1.2.1/examples/pylab_examples/histogram_demo.html"
   ]
  },
  {
   "cell_type": "code",
   "execution_count": 1,
   "metadata": {
    "collapsed": false
   },
   "outputs": [],
   "source": [
    "import random\n",
    "import numpy as np\n",
    "import matplotlib.pyplot as plt\n",
    "import matplotlib.mlab as mlab\n",
    "import tensorflow as tf\n",
    "%matplotlib inline\n",
    "\n",
    "# Disable GPU\n",
    "import os\n",
    "os.environ['CUDA_VISIBLE_DEVICES'] = ''"
   ]
  },
  {
   "cell_type": "code",
   "execution_count": 2,
   "metadata": {
    "collapsed": false
   },
   "outputs": [],
   "source": [
    "mu = 0.25\n",
    "sigma = 0.2\n",
    "NUM_DATA = 10 ** 5\n",
    "x_real = np.random.normal(mu, sigma, size=NUM_DATA)\n",
    "x_real = np.reshape(x_real, (x_real.shape[0], 1))"
   ]
  },
  {
   "cell_type": "code",
   "execution_count": 3,
   "metadata": {
    "collapsed": false
   },
   "outputs": [],
   "source": [
    "class GAN:\n",
    "    def __init__(self, dim_z, dim_h1, dim_h2, dim_x):\n",
    "        self.dim_x = dim_x\n",
    "        self.dim_h1 = dim_h1\n",
    "        self.dim_h2 = dim_h2\n",
    "        self.dim_z = dim_z\n",
    "        my_init=tf.random_uniform_initializer(-1, 1)\n",
    "        \n",
    "        # Placeholders\n",
    "        self.x = tf.placeholder(tf.float32, [None, self.dim_x])\n",
    "        self.z = tf.placeholder(tf.float32, [None, self.dim_z])\n",
    "        self.lr = tf.placeholder(tf.float32)\n",
    "        \n",
    "        # Generator\n",
    "        with tf.variable_scope('G'):\n",
    "            G_h1   = tf.layers.dense(self.z, self.dim_h1, kernel_initializer=my_init, activation=tf.tanh)\n",
    "            G_h2   = tf.layers.dense(G_h1,   self.dim_h2, kernel_initializer=my_init, activation=tf.tanh)\n",
    "            self.G = tf.layers.dense(G_h2,   self.dim_x,  kernel_initializer=my_init, activation=tf.tanh)\n",
    "        \n",
    "        # Discriminator\n",
    "        with tf.variable_scope('D') as scope:\n",
    "            def discriminator(inputs):\n",
    "                D_h1 = tf.layers.dense(inputs, self.dim_h2,\n",
    "                                       activation=tf.tanh,    kernel_initializer=my_init, name='D_h1')\n",
    "                D_h2 = tf.layers.dense(D_h1,   self.dim_h1,\n",
    "                                       activation=tf.tanh,    kernel_initializer=my_init, name='D_h2')\n",
    "                D    = tf.layers.dense(D_h2,   1,\n",
    "                                       activation=tf.sigmoid, kernel_initializer=my_init, name='D')\n",
    "                return D\n",
    "            self.D_real = discriminator(self.x)\n",
    "            scope.reuse_variables()\n",
    "            self.D_fake = discriminator(self.G)\n",
    "        \n",
    "        # Losses\n",
    "        self.loss_G      = tf.reduce_mean(-tf.log(self.D_fake))\n",
    "        self.loss_D_real = tf.reduce_mean(-tf.log(self.D_real))\n",
    "        self.loss_D_fake = tf.reduce_mean(-tf.log(1 - self.D_fake))\n",
    "        self.loss_D      = tf.reduce_mean((self.loss_D_real, self.loss_D_fake))\n",
    "        \n",
    "        # Optmizers\n",
    "        def optimizer(loss, var_list):\n",
    "            return tf.train.AdamOptimizer(self.lr).minimize(loss, var_list=var_list)\n",
    "        g_params = [v for v in tf.trainable_variables() if v.name.startswith('G/')]\n",
    "        d_params = [v for v in tf.trainable_variables() if v.name.startswith('D/')]\n",
    "        self.train_G = optimizer(self.loss_G, g_params)\n",
    "        self.train_D = optimizer(self.loss_D, d_params)\n",
    "        \n",
    "    def generate_noise(self, cnt):\n",
    "        return np.random.normal(0, 1, size=[cnt, self.dim_z])\n",
    "    \n",
    "    def train(self, sess, x, lr, train_D_only=False):\n",
    "        noise = self.generate_noise(x.shape[0])\n",
    "        sess.run(self.train_D, feed_dict={self.x: x, self.z: noise, self.lr: lr})\n",
    "        if not train_D_only:\n",
    "            sess.run(self.train_G, feed_dict={           self.z: noise, self.lr: lr})\n",
    "        \n",
    "    def loss(self, sess, x):\n",
    "        noise = self.generate_noise(x.shape[0])\n",
    "        loss_G = sess.run(self.loss_G, feed_dict={           self.z: noise})\n",
    "        loss_D = sess.run(self.loss_D, feed_dict={self.x: x, self.z: noise})\n",
    "        return loss_G, loss_D\n",
    "    \n",
    "    def generate_data(self, sess, noise):\n",
    "        return sess.run(self.G, feed_dict={self.z: noise})"
   ]
  },
  {
   "cell_type": "code",
   "execution_count": 4,
   "metadata": {
    "collapsed": false
   },
   "outputs": [],
   "source": [
    "def plot_data(x_real, x_fake, frame_str, path=None):\n",
    "    # Start plot\n",
    "    plt.ioff()\n",
    "    plt.rc('font', size=15)\n",
    "    plt.figure(figsize=(8, 7))\n",
    "    plt.title('GAN for 1D Data (%s frame)'%(frame_str), fontsize=15,family='monospace')\n",
    "    \n",
    "    # Define values\n",
    "    plot_bins = np.arange(-1, 1 + 0.0001, 0.0001)\n",
    "    hist_bins = np.arange(-1, 1 + 0.025, 0.025)\n",
    "       \n",
    "    # Control axis\n",
    "    plt.axis([-1, 1, 0, 3])\n",
    "    plt.yticks([])\n",
    "    \n",
    "    # Draw x_fake\n",
    "    plt.hist(x_fake, hist_bins, normed=1, facecolor='red', alpha=0.5, histtype='bar', rwidth=0.8)\n",
    "    \n",
    "    # Draw x_real\n",
    "    plt.plot(plot_bins, mlab.normpdf(plot_bins, x_real.mean(), x_real.std()), 'b-', linewidth=2.5)\n",
    "    \n",
    "    # Finish the work\n",
    "    path == None and plt.show() or plt.savefig(path, bbox_inches='tight')\n",
    "    plt.close()"
   ]
  },
  {
   "cell_type": "code",
   "execution_count": 5,
   "metadata": {
    "collapsed": false
   },
   "outputs": [
    {
     "data": {
      "image/png": "[encoded data removed]",
      "text/plain": [
       "<matplotlib.figure.Figure at 0x7f9b3961f6d0>"
      ]
     },
     "metadata": {},
     "output_type": "display_data"
    }
   ],
   "source": [
    "tf.reset_default_graph()\n",
    "\n",
    "with tf.Session() as sess:\n",
    "    gan = GAN(dim_z=2**5, dim_h1=2**4, dim_h2=2**3, dim_x=1)\n",
    "    sess.run(tf.global_variables_initializer())\n",
    "    sess.run(tf.local_variables_initializer())\n",
    "    \n",
    "    fixed_noise = gan.generate_noise(NUM_DATA)\n",
    "    \n",
    "    BATCH_SIZE = 2 ** 6\n",
    "    NUM_ITER = 100001\n",
    "    num_img = 0\n",
    "    \n",
    "    # Draw the frame of the animation\n",
    "    x_fake = gan.generate_data(sess, fixed_noise)\n",
    "    plot_data(x_real, x_fake, '%3d/%d'%(0, 100), 'plot_gan1d/%d.png'%num_img)\n",
    "    \n",
    "    for iter in xrange(NUM_ITER):\n",
    "        # Train\n",
    "        x_batch = x_real[[random.randint(a=0, b=x_real.shape[0]-1) for _ in range(BATCH_SIZE)]]\n",
    "        lr = 0.0001 * (1 - float(iter) / NUM_ITER)\n",
    "        if iter % 5 == 0:\n",
    "            gan.train(sess, x_batch, lr)\n",
    "        else:\n",
    "            gan.train(sess, x_batch, lr, train_D_only=True)\n",
    "        \n",
    "        # Draw a frame of the animation\n",
    "        if iter > 0 and iter % 1000 == 0:\n",
    "            x_fake = gan.generate_data(sess, fixed_noise)\n",
    "            num_img += 1\n",
    "            plot_data(x_real, x_fake, '%3d/%d'%(num_img, 100), 'plot_gan1d/%d.png'%num_img)\n",
    "            \n",
    "        # Plot the result\n",
    "        if iter == (NUM_ITER-1):\n",
    "            x_fake = gan.generate_data(sess, fixed_noise)\n",
    "            plot_data(x_real, x_fake, '%3d/%d'%(num_img, 100))"
   ]
  }
 ],
 "metadata": {
  "kernelspec": {
   "display_name": "Python 2",
   "language": "python",
   "name": "python2"
  },
  "language_info": {
   "codemirror_mode": {
    "name": "ipython",
    "version": 2
   },
   "file_extension": ".py",
   "mimetype": "text/x-python",
   "name": "python",
   "nbconvert_exporter": "python",
   "pygments_lexer": "ipython2",
   "version": "2.7.6"
  }
 },
 "nbformat": 4,
 "nbformat_minor": 0
}
