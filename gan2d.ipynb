{
 "cells": [
  {
   "cell_type": "markdown",
   "metadata": {},
   "source": [
    "### GAN 2D\n",
    "\n",
    "References\n",
    "- http://blog.naver.com/atelierjpro/220987973950"
   ]
  },
  {
   "cell_type": "code",
   "execution_count": 1,
   "metadata": {
    "collapsed": false
   },
   "outputs": [],
   "source": [
    "import random\n",
    "import numpy as np\n",
    "import matplotlib.pyplot as plt\n",
    "import matplotlib.mlab as mlab\n",
    "import tensorflow as tf\n",
    "%matplotlib inline\n",
    "\n",
    "# Disable GPU\n",
    "import os\n",
    "os.environ['CUDA_VISIBLE_DEVICES'] = ''"
   ]
  },
  {
   "cell_type": "code",
   "execution_count": 2,
   "metadata": {
    "collapsed": false
   },
   "outputs": [],
   "source": [
    "NUM_DATA = 10 ** 4\n",
    "x_real = np.column_stack((np.random.normal(4, 0.5, size=NUM_DATA), np.random.normal(2, 1.0, size=NUM_DATA)))"
   ]
  },
  {
   "cell_type": "code",
   "execution_count": 3,
   "metadata": {
    "collapsed": false
   },
   "outputs": [],
   "source": [
    "class GAN:\n",
    "    def __init__(self, dim_z, dim_x):\n",
    "        self.dim_x = dim_x\n",
    "        self.dim_z = dim_z\n",
    "        my_init=tf.truncated_normal_initializer(stddev=1.0)\n",
    "        \n",
    "        # Placeholders\n",
    "        self.x = tf.placeholder(tf.float32, [None, self.dim_x])\n",
    "        self.z = tf.placeholder(tf.float32, [None, self.dim_z])\n",
    "        self.lr = tf.placeholder(tf.float32)\n",
    "        \n",
    "        # Generator\n",
    "        with tf.variable_scope('G'):\n",
    "            self.G = tf.layers.dense(self.z, self.dim_x, kernel_initializer=my_init)\n",
    "        \n",
    "        # Discriminator\n",
    "        with tf.variable_scope('D') as scope:\n",
    "            def discriminator(inputs):\n",
    "                return tf.layers.dense(inputs, 1, activation=tf.sigmoid, kernel_initializer=my_init, name='D')\n",
    "            self.D_real = discriminator(self.x)\n",
    "            scope.reuse_variables()\n",
    "            self.D_fake = discriminator(self.G)\n",
    "        \n",
    "        # Losses\n",
    "        self.loss_G      = tf.reduce_mean(-tf.log(self.D_fake))\n",
    "        self.loss_D_real = tf.reduce_mean(-tf.log(self.D_real))\n",
    "        self.loss_D_fake = tf.reduce_mean(-tf.log(1 - self.D_fake))\n",
    "        self.loss_D      = tf.reduce_mean((self.loss_D_real, self.loss_D_fake))\n",
    "        \n",
    "        # Optmizers\n",
    "        def optimizer(loss, var_list):\n",
    "            return tf.train.AdamOptimizer(self.lr).minimize(loss, var_list=var_list)\n",
    "        g_params = [v for v in tf.trainable_variables() if v.name.startswith('G/')]\n",
    "        d_params = [v for v in tf.trainable_variables() if v.name.startswith('D/')]\n",
    "        self.train_G = optimizer(self.loss_G, g_params)\n",
    "        self.train_D = optimizer(self.loss_D, d_params)\n",
    "        \n",
    "    def _generate_noise(self, cnt):\n",
    "#         return np.random.normal(0, 1, size=[cnt, self.dim_z])\n",
    "#         return np.random.normal(0, 1, size=[cnt, self.dim_z])\n",
    "        return np.random.uniform(-1., 1., size=[cnt, self.dim_z])\n",
    "    \n",
    "    def train(self, sess, x, lr, train_D_only=False):\n",
    "        noise = self._generate_noise(x.shape[0])\n",
    "        sess.run(self.train_D, feed_dict={self.x: x, self.z: noise, self.lr: lr})\n",
    "        if not train_D_only:\n",
    "            sess.run(self.train_G, feed_dict={           self.z: noise, self.lr: lr})\n",
    "        \n",
    "    def loss(self, sess, x):\n",
    "        noise = self._generate_noise(x.shape[0])\n",
    "        loss_G = sess.run(self.loss_G, feed_dict={           self.z: noise})\n",
    "        loss_D = sess.run(self.loss_D, feed_dict={self.x: x, self.z: noise})\n",
    "        return loss_G, loss_D\n",
    "    \n",
    "    def generate_data(self, sess, cnt):\n",
    "        noise = self._generate_noise(cnt)\n",
    "        return sess.run(self.G, feed_dict={self.z: noise})"
   ]
  },
  {
   "cell_type": "code",
   "execution_count": 4,
   "metadata": {
    "collapsed": false
   },
   "outputs": [],
   "source": [
    "def plot_data(x_real, x_fake, path=None):\n",
    "    plt.ioff()\n",
    "    plt.rc('font', size=20)\n",
    "    f, ax = plt.subplots(figsize=(10, 10))\n",
    "    plt.xlabel('$x_1$')\n",
    "    plt.ylabel('$x_2$')\n",
    "    plt.plot(x_real[:,0], x_real[:,1], 'bo', markersize=5, markeredgewidth=0.0, alpha=0.1, label='real data')\n",
    "    plt.plot(x_fake[:,0], x_fake[:,1], 'ro', markersize=5, markeredgewidth=0.0, alpha=0.1, label='generated data')\n",
    "    plt.title(r'GAN for 2D Data')\n",
    "    plt.axis([-6, 6, -6, 6])\n",
    "    plt.grid(True)\n",
    "    legend = ax.legend(loc='upper center')\n",
    "    path == None and plt.show() or plt.savefig(path, bbox_inches='tight')\n",
    "    plt.close()"
   ]
  },
  {
   "cell_type": "code",
   "execution_count": 5,
   "metadata": {
    "collapsed": false,
    "scrolled": true
   },
   "outputs": [],
   "source": [
    "tf.reset_default_graph()\n",
    "\n",
    "with tf.Session() as sess:\n",
    "    gan = GAN(dim_z=2*8, dim_x=2)\n",
    "    \n",
    "    sess.run(tf.global_variables_initializer())\n",
    "    sess.run(tf.local_variables_initializer())\n",
    "    \n",
    "    # Pre-train D\n",
    "    MB_SIZE_PT = 2 * 8\n",
    "    NUM_ITER_PT = 1000\n",
    "    for iter in xrange(NUM_ITER_PT):\n",
    "        x_mb = x_real[[random.randint(a=0, b=x_real.shape[0]-1) for _ in range(MB_SIZE_PT)]]\n",
    "        gan.train(sess, x_mb, 0.001)\n",
    "        \n",
    "    # Train both D and G\n",
    "    MB_SIZE = 2*5\n",
    "    NUM_ITER = 100001\n",
    "    num_img = 1\n",
    "    for iter in xrange(NUM_ITER):\n",
    "        x_mb = x_real[[random.randint(a=0, b=x_real.shape[0]-1) for _ in range(MB_SIZE)]]\n",
    "        lr = 0.01 * (1 - float(iter) / NUM_ITER)\n",
    "        gan.train(sess, x_mb, lr)\n",
    "        \n",
    "        if iter % 500 == 0:\n",
    "            x_fake = gan.generate_data(sess, NUM_DATA)\n",
    "            plot_data(x_real, x_fake, 'plot_gan2d/%d.png'%num_img)\n",
    "            num_img += 1"
   ]
  }
 ],
 "metadata": {
  "kernelspec": {
   "display_name": "Python 2",
   "language": "python",
   "name": "python2"
  },
  "language_info": {
   "codemirror_mode": {
    "name": "ipython",
    "version": 2
   },
   "file_extension": ".py",
   "mimetype": "text/x-python",
   "name": "python",
   "nbconvert_exporter": "python",
   "pygments_lexer": "ipython2",
   "version": "2.7.6"
  }
 },
 "nbformat": 4,
 "nbformat_minor": 0
}
